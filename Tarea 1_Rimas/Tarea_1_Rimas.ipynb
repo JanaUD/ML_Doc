{
  "nbformat": 4,
  "nbformat_minor": 0,
  "metadata": {
    "colab": {
      "provenance": []
    },
    "kernelspec": {
      "name": "python3",
      "display_name": "Python 3"
    },
    "language_info": {
      "name": "python"
    }
  },
  "cells": [
    {
      "cell_type": "code",
      "execution_count": null,
      "metadata": {
        "id": "BmusHEMnFDQt"
      },
      "outputs": [],
      "source": [
        "!pip install --upgrade pymupdf\n",
        "import re\n",
        "import os\n",
        "import fitz\n",
        "\n",
        "# Configuración directa de la ruta del archivo\n",
        "ARCHIVO_PDF = \"/content/redie,+contenido-varelaetal.pdf\"\n",
        "\n",
        "def extraer_texto_pdf(pdf_path):\n",
        "    \"\"\"Extrae texto de un archivo PDF\"\"\"\n",
        "    try:\n",
        "        doc = fitz.open(pdf_path)\n",
        "        texto_completo = \"\"\n",
        "        print(f\"\\n📄 Información del PDF:\")\n",
        "        print(f\"- Páginas: {doc.page_count}\")\n",
        "        print(f\"- Tamaño: {round(os.path.getsize(pdf_path)/1024, 2)} KB\")\n",
        "\n",
        "        for page_num in range(doc.page_count):\n",
        "            page = doc.load_page(page_num)\n",
        "            texto_completo += page.get_text(\"text\")\n",
        "\n",
        "        return texto_completo\n",
        "    except Exception as e:\n",
        "        print(f\"❌ Error al procesar PDF: {e}\")\n",
        "        return None\n",
        "\n",
        "def buscar_terminaciones(texto, terminacion=\"ca\"):\n",
        "    \"\"\"Busca palabras con terminación específica\"\"\"\n",
        "    palabras = re.findall(rf'\\b\\w*{terminacion}\\b', texto, re.IGNORECASE)\n",
        "    return sorted(set(palabras))  # Elimina duplicados y ordena\n",
        "\n",
        "# Ejecución principal\n",
        "if __name__ == \"__main__\":\n",
        "    print(\"=== PROCESADOR DE PDF ===\")\n",
        "    print(f\"Procesando archivo: {ARCHIVO_PDF}\")\n",
        "\n",
        "    texto_extraido = extraer_texto_pdf(ARCHIVO_PDF)\n",
        "\n",
        "    if texto_extraido:\n",
        "        terminacion = input(\"\\n🔍 Ingrese terminación a buscar (ej: 'ca'): \").strip()\n",
        "        palabras_encontradas = buscar_terminaciones(texto_extraido, terminacion)\n",
        "\n",
        "        if palabras_encontradas:\n",
        "            print(f\"\\n🔎 {len(palabras_encontradas)} palabras terminadas en '{terminacion}':\")\n",
        "            for i, palabra in enumerate(palabras_encontradas, 1):\n",
        "                print(f\"{i}. {palabra}\")\n",
        "        else:\n",
        "            print(\"No se encontraron palabras con esa terminación\")\n",
        "\n",
        "    print(\"\\nJannet Ortiz Aguilar\")"
      ]
    }
  ]
}
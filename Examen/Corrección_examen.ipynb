{
  "nbformat": 4,
  "nbformat_minor": 0,
  "metadata": {
    "colab": {
      "provenance": []
    },
    "kernelspec": {
      "name": "python3",
      "display_name": "Python 3"
    },
    "language_info": {
      "name": "python"
    }
  },
  "cells": [
    {
      "cell_type": "code",
      "execution_count": 1,
      "metadata": {
        "colab": {
          "base_uri": "https://localhost:8080/"
        },
        "id": "pq4aqno2Cktt",
        "outputId": "dcec7cad-7e46-4e3e-d4a0-01978ed24428"
      },
      "outputs": [
        {
          "output_type": "stream",
          "name": "stdout",
          "text": [
            "=== Resultados de Similitud de Jaccard ===\n",
            "E1 (Ingeniería) vs E2 (Ingeniería): 0.40\n",
            "E1 (Ingeniería) vs E3 (Psicología): 0.00\n",
            "E1 (Ingeniería) vs E4 (Psicología): 0.00\n",
            "E1 (Ingeniería) vs E5 (Matemáticas): 0.00\n",
            "E1 (Ingeniería) vs E6 (Matemáticas): 0.20\n",
            "E2 (Ingeniería) vs E3 (Psicología): 0.00\n",
            "E2 (Ingeniería) vs E4 (Psicología): 0.00\n",
            "E2 (Ingeniería) vs E5 (Matemáticas): 0.00\n",
            "E2 (Ingeniería) vs E6 (Matemáticas): 0.40\n",
            "E3 (Psicología) vs E4 (Psicología): 0.00\n",
            "E3 (Psicología) vs E5 (Matemáticas): 0.00\n",
            "E3 (Psicología) vs E6 (Matemáticas): 0.00\n",
            "E4 (Psicología) vs E5 (Matemáticas): 0.00\n",
            "E4 (Psicología) vs E6 (Matemáticas): 0.00\n",
            "E5 (Matemáticas) vs E6 (Matemáticas): 0.00\n",
            "\n",
            "=== Matriz de Similitud ===\n",
            "Estudiante\tE1 (Ingeniería)\tE2 (Ingeniería)\tE3 (Psicología)\tE4 (Psicología)\tE5 (Matemáticas)\tE6 (Matemáticas)\n",
            "E1 (Ingeniería)\t1.00\t0.40\t0.00\t0.00\t0.00\t0.20\n",
            "E2 (Ingeniería)\t0.40\t1.00\t0.00\t0.00\t0.00\t0.40\n",
            "E3 (Psicología)\t0.00\t0.00\t1.00\t0.00\t0.00\t0.00\n",
            "E4 (Psicología)\t0.00\t0.00\t0.00\t1.00\t0.00\t0.00\n",
            "E5 (Matemáticas)\t0.00\t0.00\t0.00\t0.00\t1.00\t0.00\n",
            "E6 (Matemáticas)\t0.20\t0.40\t0.00\t0.00\t0.00\t1.00\n",
            "\n",
            "\n",
            "Jannet Ortiz Aguilar\n"
          ]
        }
      ],
      "source": [
        "# Correción de código del examen y prueba de escritorio\n",
        "\n",
        "# Datos proporcionados\n",
        "estudiantes = {\n",
        "    \"E1 (Ingeniería)\": {\"lógica\", \"álgebra\", \"pensamiento_analítico\"},\n",
        "    \"E2 (Ingeniería)\": {\"estadística\", \"álgebra\", \"lógica\", \"probabilidad\"},\n",
        "    \"E3 (Psicología)\": {\"empatía\", \"comunicación\", \"trabajo_en_equipo\"},\n",
        "    \"E4 (Psicología)\": {\"lectura\", \"participación\", \"expresión_oral\"},\n",
        "    \"E5 (Matemáticas)\": {\"resolución_problemas\", \"abstracción\", \"cálculo\"},\n",
        "    \"E6 (Matemáticas)\": {\"teoría_números\", \"lógica\", \"probabilidad\"}\n",
        "}\n",
        "\n",
        "# Función manual de Jaccard\n",
        "def jaccard_manual(set1, set2):\n",
        "    # 1. Intersección: cursos comunes\n",
        "    interseccion = set1.intersection(set2)\n",
        "    # 2. Unión: todos los cursos únicos\n",
        "    union = set1.union(set2)\n",
        "    # 3. Evitar división por cero\n",
        "    if len(union) == 0:\n",
        "        return 0.0\n",
        "    # 4. Calcular similitud\n",
        "    return len(interseccion) / len(union)\n",
        "\n",
        "# Comparar todos los pares de estudiantes\n",
        "nombres = list(estudiantes.keys())\n",
        "print(\"=== Resultados de Similitud de Jaccard ===\")\n",
        "for i in range(len(nombres)):\n",
        "    for j in range(i + 1, len(nombres)):\n",
        "        estudiante1 = nombres[i]\n",
        "        estudiante2 = nombres[j]\n",
        "        similitud = jaccard_manual(estudiantes[estudiante1], estudiantes[estudiante2])\n",
        "        print(f\"{estudiante1} vs {estudiante2}: {similitud:.2f}\")\n",
        "\n",
        "# Bonus: Matriz de similitud (para visualización)\n",
        "print(\"\\n=== Matriz de Similitud ===\")\n",
        "print(\"Estudiante\\t\" + \"\\t\".join(nombres))\n",
        "for i in range(len(nombres)):\n",
        "    fila = [nombres[i]]\n",
        "    for j in range(len(nombres)):\n",
        "        if i == j:\n",
        "            fila.append(\"1.00\")  # Autosimilitud\n",
        "        else:\n",
        "            similitud = jaccard_manual(estudiantes[nombres[i]], estudiantes[nombres[j]])\n",
        "            fila.append(f\"{similitud:.2f}\")\n",
        "    print(\"\\t\".join(fila))\n",
        "    # Generar matriz de similitud\n",
        "nombres = list(estudiantes.keys())\n",
        "matriz = []\n",
        "for i in range(len(nombres)):\n",
        "    fila = []\n",
        "    for j in range(len(nombres)):\n",
        "        fila.append(jaccard_manual(estudiantes[nombres[i]], estudiantes[nombres[j]]))\n",
        "    matriz.append(fila)\n",
        "\n",
        "print(\"\")\n",
        "print(\"\\nJannet Ortiz Aguilar\")"
      ]
    }
  ]
}
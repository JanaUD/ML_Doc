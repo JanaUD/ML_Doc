{
  "nbformat": 4,
  "nbformat_minor": 0,
  "metadata": {
    "colab": {
      "provenance": []
    },
    "kernelspec": {
      "name": "python3",
      "display_name": "Python 3"
    },
    "language_info": {
      "name": "python"
    }
  },
  "cells": [
    {
      "cell_type": "code",
      "execution_count": null,
      "metadata": {
        "id": "SdoYJ6aw3kJF"
      },
      "outputs": [],
      "source": [
        "import random"
      ]
    },
    {
      "cell_type": "code",
      "source": [
        "def jaccard_similarity(setE1, setE2):\n",
        "    \"\"\"\n",
        "    Calcula el índice de similitud de Jaccard entre dos conjuntos.\n",
        "\n",
        "    Args:\n",
        "        setE1: Primer conjunto.\n",
        "        setE2: Segundo conjunto.\n",
        "\n",
        "    Returns:\n",
        "        El índice de similitud de Jaccard.\n",
        "    \"\"\"\n",
        "    intersection = len(setE1.intersection(setE2))\n",
        "    union = len(setE1.union(setE2))\n",
        "    if union == 0:\n",
        "        return 0  # Manejo del caso en que ambos conjuntos son vacíos\n",
        "    return intersection / union\n",
        "\n",
        "# Ejemplo de uso:\n",
        "setE1 = {\"lógica\", \"álgebra\", \"pensamiento_analítico\"}\n",
        "setE2 = {\"estadística\", \"álgebra\", \"lógica\", \"probabilidad\"}\n",
        "\n",
        "jaccard_index = jaccard_similarity(setE1, setE2)\n",
        "print(f\"El índice de Jaccard entre setE1 y setE2 es: {jaccard_index}\")\n",
        "\n"
      ],
      "metadata": {
        "colab": {
          "base_uri": "https://localhost:8080/"
        },
        "id": "PS4s4mJo6-VM",
        "outputId": "db21454b-2e47-4c9e-f604-ed3a961ffa8d"
      },
      "execution_count": null,
      "outputs": [
        {
          "output_type": "stream",
          "name": "stdout",
          "text": [
            "El índice de Jaccard entre setE1 y setE2 es: 0.4\n"
          ]
        }
      ]
    },
    {
      "cell_type": "code",
      "source": [],
      "metadata": {
        "id": "AYyoz1ecAUKE"
      },
      "execution_count": null,
      "outputs": []
    }
  ]
}